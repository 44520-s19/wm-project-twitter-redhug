{
 "cells": [
  {
   "cell_type": "markdown",
   "metadata": {},
   "source": [
    "## Pavan Kumar Reddy Byreddy"
   ]
  },
  {
   "cell_type": "markdown",
   "metadata": {},
   "source": [
    "Twitter accounts:\n",
    "- Sunny Leone (@SunnyLeone)\n",
    "- Pooja Hegde (@hegdepooja)\n",
    "- Ram Gopal Varma (@RGVzoomin)"
   ]
  },
  {
   "cell_type": "code",
   "execution_count": 1,
   "metadata": {},
   "outputs": [],
   "source": [
    "#This cell is for get information from twitter and save in pickle file\n",
    "\n",
    "import pickle\n",
    "import tweepy\n",
    "from twitter_keys import consumer_key, consumer_secret, access_token, access_secret\n",
    "\n",
    "auth = tweepy.OAuthHandler(consumer_key, consumer_secret)\n",
    "auth.set_access_token(access_token, access_secret)\n",
    "\n",
    "api=tweepy.API(auth)\n",
    "sunny_tweets= api.user_timeline('SunnyLeone')\n",
    "pooja_tweets= api.user_timeline('hegdepooja')\n",
    "rgv_tweets= api.user_timeline('RGVzoomin')\n",
    "\n",
    "with open('sunnyLeone.pkl', 'wb') as f:\n",
    "    pickle.dump(sunny_tweets, f)  \n",
    "\n",
    "with open('poojaHegde.pkl', 'wb') as f:\n",
    "    pickle.dump(pooja_tweets, f)  \n",
    "    \n",
    "with open('rgv.pkl', 'wb') as f:\n",
    "    pickle.dump(rgv_tweets, f)  "
   ]
  },
  {
   "cell_type": "code",
   "execution_count": 4,
   "metadata": {
    "scrolled": false
   },
   "outputs": [],
   "source": [
    "with open('sunnyLeone.pkl', 'rb') as f:\n",
    "    sunny_tweets = pickle.load(f)\n",
    "\n",
    "\n",
    "with open('poojaHegde.pkl', 'rb') as f:\n",
    "    pooja_tweets = pickle.load(f)\n",
    "\n",
    "\n",
    "with open('rgv.pkl', 'rb') as f:\n",
    "    rgv_tweets = pickle.load(f)\n",
    "\n"
   ]
  },
  {
   "cell_type": "code",
   "execution_count": 5,
   "metadata": {},
   "outputs": [],
   "source": [
    "def word_length(text):\n",
    "    tokens = text.lower().split()\n",
    "    return len(tokens)"
   ]
  },
  {
   "cell_type": "code",
   "execution_count": 9,
   "metadata": {},
   "outputs": [
    {
     "name": "stdout",
     "output_type": "stream",
     "text": [
      "13.9\n"
     ]
    }
   ],
   "source": [
    "sunnyWordsLength = []\n",
    "for tweet in sunny_tweets:\n",
    "    sunnyWordsLength.append(word_length(tweet.text))\n",
    "    \n",
    "poojaWordsLength = []\n",
    "for tweet in pooja_tweets:\n",
    "    poojaWordsLength.append(word_length(tweet.text))\n",
    "    \n",
    "rgvWordsLength = []\n",
    "for tweet in rgv_tweets:\n",
    "    rgvWordsLength.append(word_length(tweet.text))\n"
   ]
  },
  {
   "cell_type": "code",
   "execution_count": null,
   "metadata": {},
   "outputs": [],
   "source": []
  },
  {
   "cell_type": "code",
   "execution_count": null,
   "metadata": {},
   "outputs": [],
   "source": []
  }
 ],
 "metadata": {
  "kernelspec": {
   "display_name": "Python 3",
   "language": "python",
   "name": "python3"
  },
  "language_info": {
   "codemirror_mode": {
    "name": "ipython",
    "version": 3
   },
   "file_extension": ".py",
   "mimetype": "text/x-python",
   "name": "python",
   "nbconvert_exporter": "python",
   "pygments_lexer": "ipython3",
   "version": "3.7.3"
  }
 },
 "nbformat": 4,
 "nbformat_minor": 2
}
