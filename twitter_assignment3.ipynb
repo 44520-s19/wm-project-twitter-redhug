{
 "cells": [
  {
   "cell_type": "markdown",
   "metadata": {},
   "source": [
    "## Pavan Kumar Reddy Byreddy"
   ]
  },
  {
   "cell_type": "markdown",
   "metadata": {},
   "source": [
    "Twitter accounts:\n",
    "- Sunny Leone (@SunnyLeone)\n",
    "- Pooja Hegde (@hegdepooja)\n",
    "- Ram Gopal Varma (@RGVzoomin)"
   ]
  },
  {
   "cell_type": "markdown",
   "metadata": {},
   "source": [
    "The below cell is to get information from twitter and save in pickle file."
   ]
  },
  {
   "cell_type": "code",
   "execution_count": 1,
   "metadata": {},
   "outputs": [],
   "source": [
    "#This cell is for get information from twitter and save in pickle file\n",
    "\n",
    "import pickle\n",
    "import tweepy\n",
    "from twitter_keys import consumer_key, consumer_secret, access_token, access_secret\n",
    "\n",
    "auth = tweepy.OAuthHandler(consumer_key, consumer_secret)\n",
    "auth.set_access_token(access_token, access_secret)\n",
    "\n",
    "api=tweepy.API(auth)\n",
    "sunny_tweets= api.user_timeline('SunnyLeone')\n",
    "pooja_tweets= api.user_timeline('hegdepooja')\n",
    "rgv_tweets= api.user_timeline('RGVzoomin')\n",
    "\n",
    "with open('sunnyLeone.pkl', 'wb') as f:\n",
    "    pickle.dump(sunny_tweets, f)  \n",
    "\n",
    "with open('poojaHegde.pkl', 'wb') as f:\n",
    "    pickle.dump(pooja_tweets, f)  \n",
    "    \n",
    "with open('rgv.pkl', 'wb') as f:\n",
    "    pickle.dump(rgv_tweets, f)  "
   ]
  },
  {
   "cell_type": "markdown",
   "metadata": {},
   "source": [
    "The below cell is to load information from pickle file."
   ]
  },
  {
   "cell_type": "code",
   "execution_count": 4,
   "metadata": {
    "scrolled": false
   },
   "outputs": [],
   "source": [
    "with open('sunnyLeone.pkl', 'rb') as f:\n",
    "    sunny_tweets = pickle.load(f)\n",
    "\n",
    "\n",
    "with open('poojaHegde.pkl', 'rb') as f:\n",
    "    pooja_tweets = pickle.load(f)\n",
    "\n",
    "\n",
    "with open('rgv.pkl', 'rb') as f:\n",
    "    rgv_tweets = pickle.load(f)\n",
    "\n"
   ]
  },
  {
   "cell_type": "markdown",
   "metadata": {},
   "source": [
    "## Average number of words\n",
    "\n",
    "Here we are calculating the average number of words for individual accounts.\n",
    "\n",
    "We will take all tweets and calculate the number of words for each tweet of an account. Then we will calculate the average of the number of words we got for each account. "
   ]
  },
  {
   "cell_type": "code",
   "execution_count": 13,
   "metadata": {},
   "outputs": [],
   "source": [
    "def word_length(text):\n",
    "    tokens = text.lower().split()\n",
    "    return len(tokens)\n",
    "\n",
    "def calc_avg(words):\n",
    "    return sum(words)/len(words)"
   ]
  },
  {
   "cell_type": "code",
   "execution_count": 23,
   "metadata": {},
   "outputs": [],
   "source": [
    "sunnyWordsLength = []\n",
    "for tweet in sunny_tweets:\n",
    "    sunnyWordsLength.append(word_length(tweet.text))\n",
    "    \n",
    "poojaWordsLength = []\n",
    "for tweet in pooja_tweets:\n",
    "    poojaWordsLength.append(word_length(tweet.text))\n",
    "    \n",
    "rgvWordsLength = []\n",
    "for tweet in rgv_tweets:\n",
    "    rgvWordsLength.append(word_length(tweet.text))\n",
    "\n",
    "avgOfWords = {'Sunny Tweets':calc_avg(sunnyWordsLength),'Pooja Tweets':calc_avg(poojaWordsLength),'RGV Tweets':calc_avg(rgvWordsLength)}\n"
   ]
  },
  {
   "cell_type": "markdown",
   "metadata": {},
   "source": [
    "## Representation of data in bar graph"
   ]
  },
  {
   "cell_type": "code",
   "execution_count": 21,
   "metadata": {},
   "outputs": [
    {
     "data": {
      "image/png": "[encoded data removed]",
      "text/plain": [
       "<Figure size 432x288 with 1 Axes>"
      ]
     },
     "metadata": {
      "needs_background": "light"
     },
     "output_type": "display_data"
    }
   ],
   "source": [
    "import matplotlib.pyplot as plt\n",
    "heights = list(avgOfWords.values())\n",
    "heights.sort(reverse=True)\n",
    "plt.bar(range(len(heights)),heights)\n",
    "plt.title('Average of tweet words ')\n",
    "plt.ylabel('# number of words')\n",
    "keys = list(avgOfWords.keys())\n",
    "keys.sort(reverse=True, key=lambda x: avgOfWords[x])\n",
    "plt.xticks(range(len(keys)),keys)\n",
    "plt.show()"
   ]
  },
  {
   "cell_type": "markdown",
   "metadata": {},
   "source": [
    "## Conclusion:\n",
    "\n",
    "The average number of words used by all people is as below:\n",
    "\n",
    "- RGV : 17.6\n",
    "- Pooja Hegde : 15.8\n",
    "- Sunny Leone : 13.9\n",
    "\n",
    "Here we can clearly observe that RGV uses more words compared to Pooja Hegde and Sunny Leone, on the other hand Sunny Leone uses less number of words compared to RGV and Pooja Hegde.\n"
   ]
  },
  {
   "cell_type": "code",
   "execution_count": null,
   "metadata": {},
   "outputs": [],
   "source": []
  }
 ],
 "metadata": {
  "kernelspec": {
   "display_name": "Python 3",
   "language": "python",
   "name": "python3"
  },
  "language_info": {
   "codemirror_mode": {
    "name": "ipython",
    "version": 3
   },
   "file_extension": ".py",
   "mimetype": "text/x-python",
   "name": "python",
   "nbconvert_exporter": "python",
   "pygments_lexer": "ipython3",
   "version": "3.7.3"
  }
 },
 "nbformat": 4,
 "nbformat_minor": 2
}
